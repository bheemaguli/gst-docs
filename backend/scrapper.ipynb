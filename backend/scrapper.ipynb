{
 "cells": [
  {
   "cell_type": "code",
   "execution_count": 52,
   "metadata": {},
   "outputs": [],
   "source": [
    "# Import all necessary packages\n",
    "\n",
    "import json\n",
    "import time\n",
    "\n",
    "from selenium import webdriver\n",
    "from selenium import webdriver\n",
    "from selenium.webdriver.common.by import By\n",
    "from selenium.webdriver.support.ui import WebDriverWait\n",
    "from selenium.webdriver.support import expected_conditions as EC"
   ]
  },
  {
   "cell_type": "code",
   "execution_count": 51,
   "metadata": {},
   "outputs": [
    {
     "name": "stdout",
     "output_type": "stream",
     "text": [
      "{'All - Download Document': {'description': 'This API is used to Download Document', 'apis': {'v1.0': ['30-05-2018', '', 'Draft']}}, 'All - Get additional late fee breakup': {'description': 'This API will help taxpayer to fetch the break up of the additonal late fee posted in their current return period', 'apis': {'v1.1': ['08-03-2021', '', 'Mock']}}, 'All - Get File Details': {'description': 'This API is called with the file_num to get the file URL', 'apis': {'v0.3': ['09-06-2017', '', 'Draft']}}, 'All - GET PREFERENCE': {'description': 'API call to get preference for taxpayers', 'apis': {'v1.0': ['31-08-2020', '', 'Draft']}}, 'All - Get Return Status': {'description': 'This API is to get the status of the Returns submitted', 'apis': {'v0.3': ['30-06-2017', '', 'Draft']}}, 'All - Get User Masters': {'description': 'This API will be used by G2B to Get the User Masters - Products and Supplier Recipients', 'apis': {'v1.0': ['01-01-2021', '', 'Draft']}}, 'All - GetDocStatus': {'description': 'This API is used to GetDocStatus', 'apis': {'v1.1': ['27-02-2019', '', 'Draft']}}, 'All - Late Fee': {'description': 'This API is to get the details of late fee levied in GSTR3B and GSTR4', 'apis': {'v1.0': ['19-11-2018', '', 'Draft']}}, 'All - New Proceed to File(for GSTR6,GSTR5,GSTR1)': {'description': 'This API will be used for proceed to file a particular return.', 'apis': {'v1.0': ['21-01-2021', '', 'Draft']}}, 'All - Proceed to File': {'description': 'This API is for proceeding to file GSTR data', 'apis': {'v1.1': ['06-06-2018', '', 'Draft']}}, 'All - SAVE PREFERENCE': {'description': 'API call to save preference for taxpayers', 'apis': {'v1.0': ['31-08-2020', '', 'Draft']}}, 'All - Save User Masters': {'description': 'This API will be used by G2B to Save or Update or Delete the User Masters - Products and Supplier Recipients and will return the saved details and the errored out details.', 'apis': {'v1.0': ['01-01-2021', '', 'Draft']}}, 'All - Signed PDF': {'description': 'API call for getting Signed PDF for a return period.', 'apis': {'v0.1': ['14-06-2022', '', 'Draft']}}, 'All - Upload Document': {'description': 'This API is used to Upload Document', 'apis': {'v1.0': ['30-05-2018', '', 'Draft']}}, 'CC - Create Notification': {'description': 'Used by CommunicationChannel for CC - Create Notification', 'apis': {'v1.0': ['10-03-2020', '', 'Draft']}}, 'CC - Delete Notifications By Ids': {'description': 'Used by CommunicationChannel for CC - Delete Notifications By Ids', 'apis': {'v1.0': ['10-03-2020', '', 'Draft']}}, 'CC - Get All Notifications': {'description': 'Used by CommunicationChannel for CC - Get All Notifications', 'apis': {'v1.0': ['10-03-2020', '', 'Draft']}}, 'CC - Get Notification By Id': {'description': 'Used by CommunicationChannel for CC - Get Notification By Id', 'apis': {'v1.0': ['10-03-2020', '', 'Draft']}}, 'CC - Reply Notification': {'description': 'Used by CommunicationChannel for CC - Reply Notification', 'apis': {'v1.0': ['10-03-2020', '', 'Draft']}}, 'CMP - File CMP': {'description': 'This API is to File CMP08.', 'apis': {'v1.1': ['15-06-2019', '', 'Draft']}}, 'CMP - Get Details': {'description': 'API call for getting CMP Details.', 'apis': {'v1.1': ['15-06-2019', '', 'Draft']}}, 'CMP - Save': {'description': 'API call for saving CMP records.', 'apis': {'v1.1': ['15-06-2019', '', 'Draft']}}, 'CMP - Validate Turnover': {'description': 'This API is to validate turnover for CMP08.', 'apis': {'v1.1': ['11-06-2021', '', 'Draft']}}, 'GSTR1 - File Gstr1': {'description': 'This API is to submit the GSTR1 return.', 'apis': {'v3.0': ['03-01-2022', '', 'FINAL']}}, 'GSTR1 - Generate Summary': {'description': 'This API is to generate the table wise summary of GSTR1 data.', 'apis': {'v1.0': ['01-11-2020', '', 'Draft']}}, 'GSTR1 - Get AT': {'description': 'API call for getting advance tax details for a return period.', 'apis': {'v3.0': ['03-01-2022', '', 'FINAL']}}, 'GSTR1 - Get ATA': {'description': 'API call for getting amended advance tax details for a return period.', 'apis': {'v3.0': ['03-01-2022', '', 'FINAL']}}, 'GSTR1 - Get B2B Invoices': {'description': 'API call for getting all B2B invoices for a return period.', 'apis': {'v3.0': ['03-01-2022', '', 'FINAL']}}, 'GSTR1 - Get B2BA Invoices': {'description': 'API call for getting all B2B amended invoices for a return period.', 'apis': {'v3.0': ['03-01-2022', '', 'FINAL']}}, 'GSTR1 - Get B2CL Invoices': {'description': 'API call for getting all B2C Large invoices for a return period.', 'apis': {'v3.0': ['03-01-2022', '', 'FINAL']}}, 'GSTR1 - Get B2CLA Invoices': {'description': 'API call for getting all B2C Large invoices with amendments for a return period.', 'apis': {'v3.0': ['03-01-2022', '', 'FINAL']}}, 'GSTR1 - Get B2CS Invoices': {'description': 'This API will be used for getting all B2C HSN data for a return period.', 'apis': {'v3.0': ['03-01-2022', '', 'FINAL']}}, 'GSTR1 - Get B2CSA Invoices': {'description': 'This API will be used for getting all B2CSA HSN data for a return period.', 'apis': {'v3.0': ['03-01-2022', '', 'FINAL']}}, 'GSTR1 - Get CDNR Invoices': {'description': 'This API will call CDNR for getting all Credit/Debit notes for a return period of Registered Users.', 'apis': {'v3.0': ['03-01-2022', '', 'FINAL']}}, 'GSTR1 - Get CDNRA Invoices': {'description': 'This API will call CDNRA for getting all amended Credit/Debit notes for a return period of Registered Users.', 'apis': {'v3.0': ['03-01-2022', '', 'FINAL']}}, 'GSTR1 - Get CDNUR Invoices': {'description': 'This API will call CDNUR for getting all Credit/Debit notes for Unregistered Users', 'apis': {'v3.0': ['03-01-2022', '', 'FINAL']}}, 'GSTR1 - Get CDNURA Invoices': {'description': 'This API will call CDNURA for getting all amended Credit/Debit notes for Unregistered Users', 'apis': {'v3.0': ['03-01-2022', '', 'FINAL']}}, 'GSTR1 - Get Doc Issued': {'description': 'This API calls to get Documents issued during the tax period.', 'apis': {'v3.0': ['03-01-2022', '', 'FINAL']}}, 'GSTR1 - Get E-Invoices': {'description': 'API call for getting E-invoices', 'apis': {'v1.0': ['02-09-2020', '', 'Draft']}}, 'GSTR1 - Get ECOM Invoices': {'description': 'This API is to get ECOM Details', 'apis': {'v4.0': ['07-07-2023', '', 'FINAL']}}}\n"
     ]
    }
   ],
   "source": [
    "api_dict = {}\n",
    "version = \"\"\n",
    "\n",
    "try:\n",
    "    # Use Firefox as the browser.\n",
    "    # To use in linux, download geckodriver for firefox\n",
    "    # https://sc.vern.cc/@seehleung/setup-geckodriver-and-chromedriver-for-selenium-in-linux-2e3f5f462c79\n",
    "    driver = webdriver.Firefox()\n",
    "    driver.get('https://developer.gst.gov.in/apiportal/taxpayer/returns/')\n",
    "\n",
    "    # Wait till browser opens, page loads and the content populated\n",
    "    time.sleep(10)\n",
    "\n",
    "    # Click on 'View API List'\n",
    "    element = driver.find_element(By.XPATH, \"//a[@class='inverseLink id1' and @ng-click=\\\"apilist('returns','Returns')\\\"]\")\n",
    "    element.click()\n",
    "\n",
    "    # Wait for page to load\n",
    "    time.sleep(5)\n",
    "\n",
    "    # Loop over all 27 pages\n",
    "    # TODO: Fetch page numbers from html\n",
    "    #       Bit lazy to do it now\n",
    "    for i in range(4):\n",
    "\n",
    "        # Get all API items. For some reason, they are all inside an unordered tag\n",
    "        ul_elements = driver.find_elements(By.CSS_SELECTOR, \"ul.mar-t-10\")\n",
    "        for ul_element in ul_elements:\n",
    "            # Click on the API link, this will open the api details\n",
    "            anchor_tag = ul_element.find_element(By.TAG_NAME, \"a\")\n",
    "            anchor_tag.click()\n",
    "            time.sleep(3)\n",
    "\n",
    "            api_dict[anchor_tag.text] = {}\n",
    "\n",
    "            # Get API description\n",
    "            desc = driver.find_element(By.CLASS_NAME, \"text-justify\")\n",
    "            api_dict[anchor_tag.text][\"description\"] = desc.text\n",
    "\n",
    "            # Populate api with its version details\n",
    "            tbody = driver.find_element(By.TAG_NAME, \"tbody\")\n",
    "            rows = tbody.find_elements(By.TAG_NAME, \"tr\")\n",
    "            for row in rows:\n",
    "                cells = row.find_elements(By.TAG_NAME, \"td\")\n",
    "                for idx, cell in enumerate(cells):\n",
    "                    if idx == 0:\n",
    "                        version = cell.text\n",
    "                        api_dict[anchor_tag.text][\"apis\"] = {}\n",
    "                        api_dict[anchor_tag.text][\"apis\"][version] = []\n",
    "                    else:\n",
    "                        api_dict[anchor_tag.text][\"apis\"][version].append(cell.text)\n",
    "\n",
    "        # Click on the next page\n",
    "        element = driver.find_element(By.XPATH, \"/html/body/div[1]/div/ng-view/div/div/div[3]/div/div/div/ul/li[11]/a\")\n",
    "        element.click()\n",
    "\n",
    "        # Wait till the page loads\n",
    "        time.sleep(5)\n",
    "finally:\n",
    "    # Close the WebDriver\n",
    "    driver.quit()"
   ]
  },
  {
   "cell_type": "code",
   "execution_count": 54,
   "metadata": {},
   "outputs": [],
   "source": [
    "with open(\"apis.json\", \"w\") as f:\n",
    "    json.dump(api_dict, f)"
   ]
  }
 ],
 "metadata": {
  "kernelspec": {
   "display_name": ".venv",
   "language": "python",
   "name": "python3"
  },
  "language_info": {
   "codemirror_mode": {
    "name": "ipython",
    "version": 3
   },
   "file_extension": ".py",
   "mimetype": "text/x-python",
   "name": "python",
   "nbconvert_exporter": "python",
   "pygments_lexer": "ipython3",
   "version": "3.11.5"
  }
 },
 "nbformat": 4,
 "nbformat_minor": 2
}
