{
 "cells": [
  {
   "cell_type": "code",
   "execution_count": null,
   "metadata": {},
   "outputs": [],
   "source": [
    "# Import all necessary packages\n",
    "\n",
    "import json\n",
    "import time\n",
    "\n",
    "from selenium import webdriver\n",
    "from selenium.webdriver.common.by import By"
   ]
  },
  {
   "cell_type": "code",
   "execution_count": null,
   "metadata": {},
   "outputs": [],
   "source": [
    "api_dict = {}\n",
    "version = \"\""
   ]
  },
  {
   "cell_type": "code",
   "execution_count": null,
   "metadata": {},
   "outputs": [],
   "source": [
    "try:\n",
    "    # Use Firefox as the browser.\n",
    "    # To use in linux, download geckodriver for firefox\n",
    "    # https://sc.vern.cc/@seehleung/setup-geckodriver-and-chromedriver-for-selenium-in-linux-2e3f5f462c79\n",
    "    driver = webdriver.Firefox()\n",
    "    driver.get(\"https://developer.gst.gov.in/apiportal/taxpayer/returns/\")\n",
    "\n",
    "    # Wait till browser opens, page loads and the content populated\n",
    "    time.sleep(10)\n",
    "\n",
    "    # Click on 'View API List'\n",
    "    element = driver.find_element(\n",
    "        By.XPATH,\n",
    "        \"//a[@class='inverseLink id1' and @ng-click=\\\"apilist('returns','Returns')\\\"]\",\n",
    "    )\n",
    "    element.click()\n",
    "\n",
    "    # Wait for page to load\n",
    "    time.sleep(5)\n",
    "\n",
    "    # Loop over all 27 pages\n",
    "    # TODO: Fetch page numbers from html\n",
    "    #       Bit lazy to do it now\n",
    "    for i in range(27):\n",
    "        # Get all API items. For some reason, they are all inside an unordered tag\n",
    "        ul_elements = driver.find_elements(By.CSS_SELECTOR, \"ul.mar-t-10\")\n",
    "        for ul_element in ul_elements:\n",
    "            # Click on the API link, this will open the api details\n",
    "            anchor_tag = ul_element.find_element(By.TAG_NAME, \"a\")\n",
    "            anchor_tag.click()\n",
    "            time.sleep(3)\n",
    "\n",
    "            api_dict[anchor_tag.text] = {}\n",
    "\n",
    "            # Get API description\n",
    "            desc = driver.find_element(By.CLASS_NAME, \"text-justify\")\n",
    "            api_dict[anchor_tag.text][\"description\"] = desc.text\n",
    "\n",
    "            # Populate api with its version details\n",
    "            tbody = driver.find_element(By.TAG_NAME, \"tbody\")\n",
    "            rows = tbody.find_elements(By.TAG_NAME, \"tr\")\n",
    "            for row in rows:\n",
    "                cells = row.find_elements(By.TAG_NAME, \"td\")\n",
    "                for idx, cell in enumerate(cells):\n",
    "                    if idx == 0:\n",
    "                        version = cell.text\n",
    "                    if idx == 0 and \"apis\" not in api_dict[anchor_tag.text]:\n",
    "                        api_dict[anchor_tag.text][\"apis\"] = {}\n",
    "                    if idx == 0 and \"apis\" in api_dict[anchor_tag.text] and version not in api_dict[anchor_tag.text][\"apis\"]:\n",
    "                        api_dict[anchor_tag.text][\"apis\"][version] = []\n",
    "                    else:\n",
    "                        api_dict[anchor_tag.text][\"apis\"][version].append(cell.text)\n",
    "        # Click on the next page\n",
    "        element = driver.find_element(\n",
    "            By.XPATH,\n",
    "            \"/html/body/div[1]/div/ng-view/div/div/div[3]/div/div/div/ul/li[11]/a\",\n",
    "        )\n",
    "        element.click()\n",
    "\n",
    "        # Wait till the page loads\n",
    "        time.sleep(5)\n",
    "finally:\n",
    "    # Close the WebDriver\n",
    "    driver.quit()"
   ]
  },
  {
   "cell_type": "code",
   "execution_count": null,
   "metadata": {},
   "outputs": [],
   "source": [
    "processed_data = []\n",
    "for api, api_details in api_dict.items():\n",
    "    version_data = [\n",
    "        dict(\n",
    "            version=version,\n",
    "            publishedOn=version_data[0],\n",
    "            status=version_data[2],\n",
    "        )\n",
    "        for version, version_data in api_details[\"apis\"].items()\n",
    "    ]\n",
    "    processed_data.append(\n",
    "        dict(title=api, description=api_details[\"description\"], apis=version_data)\n",
    "    )"
   ]
  },
  {
   "cell_type": "code",
   "execution_count": null,
   "metadata": {},
   "outputs": [],
   "source": [
    "with open(\"apis.json\", \"w\") as f:\n",
    "    json.dump(processed_data, f)"
   ]
  }
 ],
 "metadata": {
  "kernelspec": {
   "display_name": ".venv",
   "language": "python",
   "name": "python3"
  },
  "language_info": {
   "codemirror_mode": {
    "name": "ipython",
    "version": 3
   },
   "file_extension": ".py",
   "mimetype": "text/x-python",
   "name": "python",
   "nbconvert_exporter": "python",
   "pygments_lexer": "ipython3",
   "version": "3.11.9"
  }
 },
 "nbformat": 4,
 "nbformat_minor": 2
}
